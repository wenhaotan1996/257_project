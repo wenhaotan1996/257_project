{
 "cells": [
  {
   "cell_type": "code",
   "execution_count": 50,
   "metadata": {},
   "outputs": [],
   "source": [
    "import pandas as pd\n",
    "import numpy as np"
   ]
  },
  {
   "cell_type": "code",
   "execution_count": 99,
   "metadata": {},
   "outputs": [],
   "source": [
    "top_10_list = pd.read_csv('top_10_list.csv',index_col='id')"
   ]
  },
  {
   "cell_type": "code",
   "execution_count": 100,
   "metadata": {},
   "outputs": [],
   "source": [
    "movie_data = pd.read_csv('processed_metadata.csv',index_col='id')"
   ]
  },
  {
   "cell_type": "code",
   "execution_count": 101,
   "metadata": {},
   "outputs": [],
   "source": [
    "def print_movie_info(id):\n",
    "    if id in movie_data.index:\n",
    "        movie = movie_data.loc[id]\n",
    "        print('Title: ',movie['title'])\n",
    "        print('Genres: ',movie['genres'])\n",
    "        if pd.isna(movie['collection_name']):\n",
    "            print('Collection: not in collection')\n",
    "        else:\n",
    "            print('Collection: ',movie['collection_name'])\n",
    "        print('Director: ',movie['director'])\n",
    "        print('Cast: ',movie['cast'])\n",
    "        print()\n",
    "    else:\n",
    "        print(\"Movie data not found for id \",id)"
   ]
  },
  {
   "cell_type": "code",
   "execution_count": 102,
   "metadata": {},
   "outputs": [],
   "source": [
    "def recommand_movie(id):\n",
    "    if id in top_10_list.index:\n",
    "        print(\"Input movie:\")\n",
    "        print_movie_info(id)\n",
    "        top_10 = top_10_list.loc[id].tolist()\n",
    "        for i in top_10:\n",
    "            print_movie_info(i)\n",
    "    else:\n",
    "        print(\"Movie not found\")"
   ]
  },
  {
   "cell_type": "code",
   "execution_count": 103,
   "metadata": {},
   "outputs": [
    {
     "name": "stdout",
     "output_type": "stream",
     "text": [
      "Input movie:\n",
      "Title:  Toy Story\n",
      "Genres:  ['Animation', 'Comedy', 'Family']\n",
      "Collection:  Toy Story Collection\n",
      "Director:  johnlasseter\n",
      "Cast:  ['tomhanks', 'timallen', 'donrickles']\n",
      "\n",
      "Title:  Toy Story 2\n",
      "Genres:  ['Animation', 'Comedy', 'Family']\n",
      "Collection:  Toy Story Collection\n",
      "Director:  johnlasseter\n",
      "Cast:  ['tomhanks', 'timallen', 'joancusack']\n",
      "\n",
      "Title:  Luxo Jr.\n",
      "Genres:  ['Animation']\n",
      "Collection: not in collection\n",
      "Director:  johnlasseter\n",
      "Cast:  []\n",
      "\n",
      "Title:  Tin Toy\n",
      "Genres:  ['Animation']\n",
      "Collection: not in collection\n",
      "Director:  johnlasseter\n",
      "Cast:  []\n",
      "\n",
      "Title:  Red's Dream\n",
      "Genres:  ['Animation']\n",
      "Collection: not in collection\n",
      "Director:  johnlasseter\n",
      "Cast:  []\n",
      "\n",
      "Title:  Knick Knack\n",
      "Genres:  ['Animation']\n",
      "Collection: not in collection\n",
      "Director:  johnlasseter\n",
      "Cast:  []\n",
      "\n",
      "Title:  Cars\n",
      "Genres:  ['Animation', 'Adventure', 'Comedy', 'Family']\n",
      "Collection:  Cars Collection\n",
      "Director:  johnlasseter\n",
      "Cast:  ['owenwilson', 'paulnewman', 'bonniehunt']\n",
      "\n",
      "Title:  A Bug's Life\n",
      "Genres:  ['Adventure', 'Animation', 'Comedy', 'Family']\n",
      "Collection: not in collection\n",
      "Director:  johnlasseter\n",
      "Cast:  ['kevinspacey', 'julialouis-dreyfus', 'haydenpanettiere']\n",
      "\n",
      "Title:  Mater and the Ghostlight\n",
      "Genres:  ['Animation', 'Family']\n",
      "Collection: not in collection\n",
      "Director:  johnlasseter\n",
      "Cast:  ['larrythecableguy', 'owenwilson', 'michaelwallis']\n",
      "\n",
      "Title:  Cars 2\n",
      "Genres:  ['Animation', 'Family', 'Adventure', 'Comedy']\n",
      "Collection:  Cars Collection\n",
      "Director:  johnlasseter\n",
      "Cast:  ['owenwilson', 'larrythecableguy', 'michaelcaine']\n",
      "\n",
      "Title:  Toy Story of Terror!\n",
      "Genres:  ['Animation', 'Comedy', 'Family']\n",
      "Collection: not in collection\n",
      "Director:  angusmaclane\n",
      "Cast:  ['tomhanks', 'timallen', 'kristenschaal']\n",
      "\n"
     ]
    }
   ],
   "source": [
    "recommand_movie(862)"
   ]
  },
  {
   "cell_type": "code",
   "execution_count": 104,
   "metadata": {},
   "outputs": [
    {
     "name": "stdout",
     "output_type": "stream",
     "text": [
      "Movie not found\n"
     ]
    }
   ],
   "source": [
    "recommand_movie(10)"
   ]
  },
  {
   "cell_type": "code",
   "execution_count": 106,
   "metadata": {},
   "outputs": [
    {
     "name": "stdout",
     "output_type": "stream",
     "text": [
      "Input movie:\n",
      "Title:  Lock, Stock and Two Smoking Barrels\n",
      "Genres:  ['Comedy', 'Crime']\n",
      "Collection: not in collection\n",
      "Director:  guyritchie\n",
      "Cast:  ['jasonflemyng', 'dexterfletcher', 'nickmoran']\n",
      "\n",
      "Title:  Swept Away\n",
      "Genres:  ['Comedy', 'Romance']\n",
      "Collection: not in collection\n",
      "Director:  guyritchie\n",
      "Cast:  ['madonna', 'adrianogiannini', 'brucegreenwood']\n",
      "\n",
      "Title:  The Man from U.N.C.L.E.\n",
      "Genres:  ['Comedy', 'Action', 'Adventure']\n",
      "Collection: not in collection\n",
      "Director:  guyritchie\n",
      "Cast:  ['henrycavill', 'armiehammer', 'aliciavikander']\n",
      "\n",
      "Title:  Snatch\n",
      "Genres:  ['Thriller', 'Crime']\n",
      "Collection: not in collection\n",
      "Director:  guyritchie\n",
      "Cast:  ['beniciodeltoro', 'dennisfarina', 'vinniejones']\n",
      "\n",
      "Title:  RockNRolla\n",
      "Genres:  ['Action', 'Crime', 'Thriller']\n",
      "Collection: not in collection\n",
      "Director:  guyritchie\n",
      "Cast:  ['markstrong', 'tomwilkinson', 'tobykebbell']\n",
      "\n",
      "Title:  The Hire: Star\n",
      "Genres:  ['Action', 'Comedy', 'Foreign']\n",
      "Collection:  The Hire\n",
      "Director:  guyritchie\n",
      "Cast:  ['cliveowen', 'michaelbeattie', 'torutanakajr.']\n",
      "\n",
      "Title:  Revolver\n",
      "Genres:  ['Drama', 'Thriller', 'Crime', 'Mystery']\n",
      "Collection: not in collection\n",
      "Director:  guyritchie\n",
      "Cast:  ['jasonstatham', 'rayliotta', 'vincentpastore']\n",
      "\n",
      "Title:  Sherlock Holmes\n",
      "Genres:  ['Action', 'Adventure', 'Crime', 'Mystery']\n",
      "Collection:  Sherlock Holmes Collection\n",
      "Director:  guyritchie\n",
      "Cast:  ['robertdowneyjr.', 'judelaw', 'rachelmcadams']\n",
      "\n",
      "Title:  Sherlock Holmes: A Game of Shadows\n",
      "Genres:  ['Adventure', 'Action', 'Crime', 'Mystery']\n",
      "Collection:  Sherlock Holmes Collection\n",
      "Director:  guyritchie\n",
      "Cast:  ['robertdowneyjr.', 'judelaw', 'jaredharris']\n",
      "\n",
      "Title:  King Arthur: Legend of the Sword\n",
      "Genres:  ['Action', 'Drama', 'Fantasy']\n",
      "Collection: not in collection\n",
      "Director:  guyritchie\n",
      "Cast:  ['charliehunnam', 'astridbergès-frisbey', 'judelaw']\n",
      "\n",
      "Title:  Eddie the Eagle\n",
      "Genres:  ['Comedy', 'Drama', 'History']\n",
      "Collection: not in collection\n",
      "Director:  dexterfletcher\n",
      "Cast:  ['taronegerton', 'hughjackman', 'christopherwalken']\n",
      "\n"
     ]
    }
   ],
   "source": [
    "recommand_movie(100)"
   ]
  }
 ],
 "metadata": {
  "kernelspec": {
   "display_name": "Python 3",
   "language": "python",
   "name": "python3"
  },
  "language_info": {
   "codemirror_mode": {
    "name": "ipython",
    "version": 3
   },
   "file_extension": ".py",
   "mimetype": "text/x-python",
   "name": "python",
   "nbconvert_exporter": "python",
   "pygments_lexer": "ipython3",
   "version": "3.7.6"
  }
 },
 "nbformat": 4,
 "nbformat_minor": 4
}
